{
 "cells": [
  {
   "cell_type": "markdown",
   "metadata": {},
   "source": [
    "# 测试NLU"
   ]
  },
  {
   "cell_type": "code",
   "execution_count": 1,
   "metadata": {},
   "outputs": [
    {
     "name": "stderr",
     "output_type": "stream",
     "text": [
      "C:\\Users\\m1800\\Anaconda3\\lib\\site-packages\\h5py\\__init__.py:36: FutureWarning: Conversion of the second argument of issubdtype from `float` to `np.floating` is deprecated. In future, it will be treated as `np.float64 == np.dtype(float).type`.\n",
      "  from ._conv import register_converters as _register_converters\n",
      "C:\\Users\\m1800\\Anaconda3\\lib\\site-packages\\sklearn\\preprocessing\\label.py:151: DeprecationWarning: The truth value of an empty array is ambiguous. Returning False, but in future this will result in an error. Use `array.size > 0` to check that an array is not empty.\n",
      "  if diff:\n"
     ]
    },
    {
     "name": "stdout",
     "output_type": "stream",
     "text": [
      "{\n",
      "  \"intent\": {\n",
      "    \"name\": \"ask_movie_stars\",\n",
      "    \"confidence\": 0.6709992059409241\n",
      "  },\n",
      "  \"entities\": [\n",
      "    {\n",
      "      \"entity\": \"movie\",\n",
      "      \"value\": \"The Haunting of Hill House\",\n",
      "      \"start\": 25,\n",
      "      \"end\": 51,\n",
      "      \"confidence\": null,\n",
      "      \"extractor\": \"ner_mitie\"\n",
      "    }\n",
      "  ],\n",
      "  \"intent_ranking\": [\n",
      "    {\n",
      "      \"name\": \"ask_movie_stars\",\n",
      "      \"confidence\": 0.6709992059409241\n",
      "    },\n",
      "    {\n",
      "      \"name\": \"ask_movie_information\",\n",
      "      \"confidence\": 0.07453272252292814\n",
      "    },\n",
      "    {\n",
      "      \"name\": \"ask_movie_rating\",\n",
      "      \"confidence\": 0.05825714743711891\n",
      "    },\n",
      "    {\n",
      "      \"name\": \"ask_related_recommendation\",\n",
      "      \"confidence\": 0.03964926309517662\n",
      "    },\n",
      "    {\n",
      "      \"name\": \"like_movie\",\n",
      "      \"confidence\": 0.03760785126695325\n",
      "    },\n",
      "    {\n",
      "      \"name\": \"greet\",\n",
      "      \"confidence\": 0.035267612393467346\n",
      "    },\n",
      "    {\n",
      "      \"name\": \"dislike_movie\",\n",
      "      \"confidence\": 0.030854899236660113\n",
      "    },\n",
      "    {\n",
      "      \"name\": \"ask_now_playing_movies\",\n",
      "      \"confidence\": 0.02596837740972419\n",
      "    },\n",
      "    {\n",
      "      \"name\": \"good_bye\",\n",
      "      \"confidence\": 0.015635911295532344\n",
      "    },\n",
      "    {\n",
      "      \"name\": \"ask_stars_movie\",\n",
      "      \"confidence\": 0.011227009401514913\n",
      "    }\n",
      "  ],\n",
      "  \"text\": \"I want to know actors in The Haunting of Hill House\"\n",
      "}\n"
     ]
    }
   ],
   "source": [
    "from rasa_nlu.model import Metadata, Interpreter\n",
    "import json\n",
    "def pprint(o):\n",
    " # small helper to make dict dumps a bit prettier\n",
    "    print(json.dumps(o, indent=2))\n",
    "interpreter = Interpreter.load('./models/current/nlu')\n",
    "pprint(interpreter.parse(u\"I want to know actors in The Haunting of Hill House\"))"
   ]
  },
  {
   "cell_type": "code",
   "execution_count": 2,
   "metadata": {},
   "outputs": [
    {
     "name": "stdout",
     "output_type": "stream",
     "text": [
      "0.19.0\n"
     ]
    }
   ],
   "source": [
    "import sklearn \n",
    "print(sklearn.__version__)"
   ]
  },
  {
   "cell_type": "markdown",
   "metadata": {},
   "source": [
    "# 测试整个模型"
   ]
  },
  {
   "cell_type": "code",
   "execution_count": null,
   "metadata": {},
   "outputs": [
    {
     "data": {
      "text/html": [
       "<div class=\"chat-window\" <p>Hi! you can chat in this window. Type 'stop' to end the conversation.</p><p>我:What does Gladiator say</p><p>Bot:Ok,Gladiator is Action , Drama , Adventure movie, and here is overview : In the year 180, the death of emperor Marcus Aurelius throws the Roman Empire into chaos.  Maximus is one of the Roman army's most capable and trusted generals and a key advisor to the emperor.  As Marcus' devious son Commodus ascends to the throne, Maximus is set to be executed.  He escapes, but is captured by slave traders.  Renamed Spaniard and forced to become a gladiator, Maximus must battle to the death with other men for the amusement of paying audiences.</p><p>我:I want to know the rating of Bohemian Rhapsody</p><p>Bot:the rating of Bohemian Rhapsody is : 8.2 , based on 2924 vote</p><p>我:does Harrison Ford have any famous work</p><p>Bot:Ok,Bohemian Rhapsody is Drama , Music movie, and here is overview : Singer Freddie Mercury, guitarist Brian May, drummer Roger Taylor and bass guitarist John Deacon take the music world by storm when they form the rock 'n' roll band Queen in 1970. Hit songs become instant classics. When Mercury's increasingly wild lifestyle starts to spiral out of control, Queen soon faces its greatest challenge yet – finding a way to keep the band together amid the success and excess.</p><p>我:I want to know the information of this movie</p><p>Bot:sorry, we don't find the movie you want</p><p>我:I dislike this movie</p><p>我:does Matt Damon have any famous work</p><p>Bot:here is Matt Damon's famous movies:\n",
       "Interstellar,The Martian,Thor: Ragnarok\n",
       "you can ask me information about those movies</p><p>我:does Anthony Hopkins have any famous work</p><p>Bot:Ok,Bohemian Rhapsody is Drama , Music movie, and here is overview : Singer Freddie Mercury, guitarist Brian May, drummer Roger Taylor and bass guitarist John Deacon take the music world by storm when they form the rock 'n' roll band Queen in 1970. Hit songs become instant classics. When Mercury's increasingly wild lifestyle starts to spiral out of control, Queen soon faces its greatest challenge yet – finding a way to keep the band together amid the success and excess.</p></div>"
      ],
      "text/plain": [
       "<IPython.core.display.HTML object>"
      ]
     },
     "metadata": {},
     "output_type": "display_data"
    }
   ],
   "source": [
    "import IPython\n",
    "from IPython.display import clear_output, HTML, display\n",
    "from rasa_core.agent import Agent\n",
    "from rasa_core.interpreter import RasaNLUInterpreter\n",
    "import time\n",
    "\n",
    "from rasa_core.utils import EndpointConfig\n",
    "\n",
    "endpoint=EndpointConfig(url='http://localhost:5055/webhook')\n",
    "\n",
    "interpreter = RasaNLUInterpreter('models/current/nlu')\n",
    "messages = [\"Hi! you can chat in this window. Type 'stop' to end the conversation.\"]\n",
    "agent = Agent.load('models/current/dialogue', interpreter=interpreter,action_endpoint=endpoint)\n",
    "\n",
    "def chatlogs_html(messages):\n",
    "    messages_html = \"\".join([\"<p>{}</p>\".format(m) for m in messages])\n",
    "    chatbot_html = \"\"\"<div class=\"chat-window\" {}</div>\"\"\".format(messages_html)\n",
    "    return chatbot_html\n",
    "\n",
    "\n",
    "while True:\n",
    "    clear_output()\n",
    "    display(HTML(chatlogs_html(messages)))\n",
    "    time.sleep(0.3)\n",
    "    a = input()\n",
    "    messages.append('我:'+a)\n",
    "    if a == 'stop':\n",
    "        break\n",
    "    responses = agent.handle_message(a)\n",
    "    for r in responses:\n",
    "        messages.append('Bot:'+r.get(\"text\"))"
   ]
  },
  {
   "cell_type": "code",
   "execution_count": null,
   "metadata": {},
   "outputs": [],
   "source": []
  }
 ],
 "metadata": {
  "kernelspec": {
   "display_name": "Python 3",
   "language": "python",
   "name": "python3"
  },
  "language_info": {
   "codemirror_mode": {
    "name": "ipython",
    "version": 3
   },
   "file_extension": ".py",
   "mimetype": "text/x-python",
   "name": "python",
   "nbconvert_exporter": "python",
   "pygments_lexer": "ipython3",
   "version": "3.6.5"
  }
 },
 "nbformat": 4,
 "nbformat_minor": 2
}
